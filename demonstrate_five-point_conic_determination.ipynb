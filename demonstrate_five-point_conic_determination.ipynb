{
 "cells": [
  {
   "cell_type": "markdown",
   "metadata": {
    "collapsed": true,
    "pycharm": {
     "name": "#%% md\n"
    }
   },
   "source": [
    "# Determining a Conic Section from Five Points\n",
    "\n",
    "## Plan\n",
    "In each case, create a conic section from chosen parameters such as semi axes or focal lengths. Derive the equation.\n",
    "Then, show that five points chosen on that curve yield the function back using the determinants of the minor matrices of\n",
    "each term in the matrix equation formed by writing the standard form of the equation for conic sections for each point.\n",
    "\n",
    "***\n",
    "## Ellipse\n",
    "### Choose semi axes\n",
    "$a = 10, \\: b = 8$\n",
    "\n",
    "### Equation for the x-y coordinates of this ellipse\n",
    "$\\frac{x^2}{10^2} + \\frac{y^2}{8^2} = 1$\n",
    "\n",
    "### Convert into standard conic form\n",
    "$ A x^2 + B x y + C y^2 + D x + E y + F = 0 $\n",
    "\n",
    "$64 x^2 + 100 y^2 - 6400 = 0$\n",
    "$\\rightarrow A = 64, \\: B = 0, \\: C = 100, \\: D = 0, \\: E = 0, \\: F = -6400 $"
   ]
  },
  {
   "cell_type": "code",
   "source": [
    "#\n",
    "## Plot ellipse\n",
    "#\n",
    "import matplotlib.pyplot as plt\n",
    "import numpy as np\n",
    "from draw_orbits import ellipse\n",
    "\n",
    "# Calculate ellipse values based on semi axes and an array of angles\n",
    "number_of_points = 1000\n",
    "angles = np.linspace(0., 2*np.pi, num=number_of_points)\n",
    "semimajor_axis = 10.\n",
    "semiminor_axis = 8.\n",
    "x_values, y_values = ellipse(angles, semimajor_axis=semimajor_axis, semiminor_axis=semiminor_axis)\n",
    "\n",
    "# Choose plot parameters\n",
    "conic_color = 'blue'\n",
    "label_fontsize = 18\n",
    "label_x_shift = max(x_values)*0.1\n",
    "label_y_shift = max(y_values)*0.1\n",
    "\n",
    "# Plot ellipse\n",
    "plt.plot(x_values, y_values, color=conic_color)\n",
    "plt.xlim(min(x_values)-5*label_x_shift, max(x_values)+5*label_x_shift)\n",
    "plt.ylim(min(y_values)-5*label_y_shift, max(y_values)+5*label_y_shift)\n",
    "\n",
    "# Label ellipse\n",
    "plt.plot([0,semimajor_axis], [0, 0], color='black', linestyle='--')\n",
    "plt.text(0.5*semimajor_axis, label_y_shift, r'$a = {} $'.format(int(semimajor_axis)),\n",
    "         fontsize=label_fontsize, ha='center')\n",
    "plt.plot([0, 0], [0, semiminor_axis], color='black', linestyle='--')\n",
    "plt.text(-label_x_shift, 0.5*semiminor_axis, r'$b = {} $'.format(int(semiminor_axis)),\n",
    "         fontsize=label_fontsize, ha='right', va='center')\n",
    "#plt.text(sum(x_values[1:])/2+0.25*label_x_shift, sum(y_values[1:])/2, r'$b$', fontsize=label_fontsize)\n",
    "\n",
    "# Plot and label two points on ellipse\n",
    "plt.scatter(semimajor_axis, 0, color='orange')\n",
    "plt.scatter(0, semiminor_axis, color='orange')\n",
    "plt.text(semimajor_axis+label_x_shift, label_y_shift, r'({}, 0)'.format(int(semimajor_axis)),\n",
    "         color='orange')\n",
    "plt.text(label_x_shift, semiminor_axis+label_y_shift, r'(0, {})'.format(int(semiminor_axis)),\n",
    "         color='orange')\n",
    "\n",
    "plt.show()"
   ],
   "metadata": {
    "collapsed": false,
    "pycharm": {
     "name": "#%%\n"
    }
   },
   "execution_count": 1,
   "outputs": [
    {
     "data": {
      "text/plain": "<Figure size 432x288 with 1 Axes>",
      "image/png": "[encoded data removed]"
     },
     "metadata": {
      "needs_background": "light"
     },
     "output_type": "display_data"
    }
   ]
  },
  {
   "cell_type": "markdown",
   "source": [
    "### Solve for general conic coefficients\n",
    "#### (ignore $B$, $D$, & $E$ since ellipse is centered and aligned with x-, y-axes)\n",
    "\n",
    "$ \\begin{align*} A x^2 + C y^2 + F &= 0 \\\\ A 10^2 + C 0^2 + F &= 0 \\\\ A 0^2 + C 8^2 + F &= 0\\end{align*}$\n",
    "\n",
    "$ \\rightarrow \\begin{pmatrix}  x^2 & y^2 & 1 \\\\ 100 & 0 & 1 \\\\ 0 & 64 & 1 \\\\ \\end{pmatrix} \\begin{pmatrix} A \\\\ C \\\\ F \\\\ \\end{pmatrix}  = \\begin{pmatrix} 0 \\\\ 0 \\\\ 0 \\end{pmatrix}$\n",
    "\n",
    "$ \\rightarrow \\det \\begin{pmatrix} x^2 & y^2 & 1 \\\\ 100 & 0 & 1 \\\\ 0 & 64 & 1 \\\\ \\end{pmatrix} = 0 $\n",
    "\n",
    "$ \\rightarrow \\det \\begin{pmatrix} 0 & 1 \\\\ 64 & 1 \\\\ \\end{pmatrix} x^2 + \\det \\begin{pmatrix} 1 & 100 \\\\ 1 & 0 \\\\ \\end{pmatrix} y^2 + \\det \\begin{pmatrix} 100 & 0 \\\\ 0 & 64 \\end{pmatrix} = 0 $\n",
    "\n",
    "$ \\rightarrow A = \\det \\begin{pmatrix} 0 & 1 \\\\ 64 & 1 \\\\ \\end{pmatrix} = -64,\n",
    "              C = \\det \\begin{pmatrix} 1 & 100 \\\\ 1 & 0 \\\\ \\end{pmatrix} = -100,\n",
    "              F = \\det \\begin{pmatrix} 100 & 0 \\\\ 0 & 64 \\\\ \\end{pmatrix} = 6400 $"
   ],
   "metadata": {
    "collapsed": false
   }
  },
  {
   "cell_type": "markdown",
   "source": [
    "***\n",
    "## Circle\n",
    "\n",
    "### Choose radius\n",
    "$ r = 10 $\n",
    "\n",
    "### Equation for the x-y coordinates of this circle\n",
    "$ x^2 + y^2 = 10^2 $\n",
    "\n",
    "### Convert into standard conic form\n",
    "$ A x^2 + B x y + C y^2 + D x + E y + F = 0 $\n",
    "\n",
    "$ x^2 + y^2 - 100 = 0 $\n",
    "$\\rightarrow A = 1, \\: B = 0, \\: C = 1, \\: D = 0, \\: E = 0, \\: F = -100 $"
   ],
   "metadata": {
    "collapsed": false
   }
  },
  {
   "cell_type": "code",
   "execution_count": 2,
   "outputs": [
    {
     "data": {
      "text/plain": "<Figure size 432x288 with 1 Axes>",
      "image/png": "[encoded data removed]"
     },
     "metadata": {
      "needs_background": "light"
     },
     "output_type": "display_data"
    }
   ],
   "source": [
    "#\n",
    "## Plot circle\n",
    "#\n",
    "import matplotlib.pyplot as plt\n",
    "import numpy as np\n",
    "from draw_orbits import circle\n",
    "\n",
    "# Calculate circle values based on semi axes and an array of angles\n",
    "number_of_points = 1000\n",
    "angles = np.linspace(0., 2*np.pi, num=number_of_points)\n",
    "radius = 10.\n",
    "x_values, y_values = circle(angles, radius=radius)\n",
    "\n",
    "# Choose plot parameters\n",
    "conic_color = 'blue'\n",
    "label_fontsize = 18\n",
    "label_x_shift = max(x_values)*0.1\n",
    "label_y_shift = max(y_values)*0.1\n",
    "\n",
    "# Plot circle\n",
    "plt.plot(x_values, y_values, color=conic_color)\n",
    "plt.axis('square')\n",
    "plt.xlim(min(x_values)-6*label_x_shift, max(x_values)+6*label_x_shift)\n",
    "plt.ylim(min(y_values)-6*label_y_shift, max(y_values)+6*label_y_shift)\n",
    "\n",
    "# Label circle\n",
    "plt.plot([0,radius], [0, 0], color='black', linestyle='--')\n",
    "plt.text(0.5*radius, label_y_shift, r'$r = {} $'.format(int(radius)),\n",
    "         fontsize=label_fontsize, ha='center')\n",
    "#plt.text(sum(x_values[1:])/2+0.25*label_x_shift, sum(y_values[1:])/2, r'$b$', fontsize=label_fontsize)\n",
    "\n",
    "# Plot and label five points on circle\n",
    "plt.scatter(radius, 0, color='orange')\n",
    "plt.text(radius+label_x_shift, label_y_shift, r'({}, 0)'.format(int(radius)),\n",
    "         color='orange')\n",
    "plt.scatter(0.8*radius, 0.6*radius, color='orange')\n",
    "plt.text(0.8*radius+label_x_shift, 0.6*radius+label_y_shift,\n",
    "         r'({}, {})'.format(int(0.8*radius), int(0.6*radius)),\n",
    "         color='orange')\n",
    "plt.scatter(0.6*radius, 0.8*radius, color='orange')\n",
    "plt.text(0.6*radius+label_x_shift, 0.8*radius+label_y_shift,\n",
    "         r'({}, {})'.format(int(0.6*radius), int(0.8*radius)),\n",
    "         color='orange')\n",
    "plt.scatter(0, radius, color='orange')\n",
    "plt.text(label_x_shift, radius+label_y_shift, r'(0, {})'.format(int(radius)),\n",
    "         color='orange')\n",
    "plt.scatter(-0.6*radius, 0.8*radius, color='orange')\n",
    "plt.text(-0.6*radius-label_x_shift, 0.8*radius+label_y_shift,\n",
    "         r'({}, {})'.format(-int(0.6*radius), int(0.8*radius)),\n",
    "         color='orange', ha='right')\n",
    "\n",
    "plt.show()"
   ],
   "metadata": {
    "collapsed": false,
    "pycharm": {
     "name": "#%%\n"
    }
   }
  },
  {
   "cell_type": "markdown",
   "source": [
    "### Solve for general conic coefficients using five points on circle\n",
    "#### (10, 0), (8, 6), (6, 8), (0, 10), (-6, 8)\n",
    "\n",
    "\\begin{align*}\n",
    "&A x^2    + B xy            + C y^2  + D x   + E y  + F = 0 \\\\\n",
    "&A 10^2   + B 10 \\cdot 0    + C 0^2  + D 10  + E 0  + F = 0 \\\\\n",
    "&A 8^2    + B 8 \\cdot 6     + C 6^2  + D 8   + E 6  + F = 0 \\\\\n",
    "&A 6^2    + B 6 \\cdot 8     + C 8^2  + D 6   + E 8  + F = 0 \\\\\n",
    "&A 0^2    + B 0 \\cdot 10    + C 10^2 + D 0   + E 10 + F = 0 \\\\\n",
    "&A (-6)^2 + B (-6) \\cdot 8  + C 8^2  + D(-6) + E 8  + F = 0 \\\\\n",
    "\\end{align*}\n",
    "\n",
    "### Write system of six equations as matrix equation\n",
    "$\\rightarrow$\n",
    "\\begin{pmatrix}\n",
    "  x^2 &  xy & y^2 &  x &  y & 1 \\\\\n",
    "  100 &   0 &   0 & 10 &  0 & 1 \\\\\n",
    "   64 &  48 &  36 &  8 &  6 & 1 \\\\\n",
    "   36 &  48 &  64 &  6 &  8 & 1 \\\\\n",
    "    0 &   0 & 100 &  0 & 10 & 1 \\\\\n",
    "   36 & -48 &  64 & -6 &  8 & 1 \\\\\n",
    "\\end{pmatrix}\n",
    "\\begin{pmatrix} A \\\\ B \\\\ C \\\\ D \\\\ E \\\\ F \\\\ \\end{pmatrix}\n",
    "$=$\n",
    "\\begin{pmatrix} 0 \\\\ 0 \\\\ 0 \\\\ 0 \\\\ 0 \\end{pmatrix}\n",
    "\n",
    "### To get non-trivial coefficient vector, determinant of multiplying matrix must be zero\n",
    "$\\rightarrow$\n",
    "$\\det$\n",
    "\\begin{pmatrix}\n",
    "  x^2 &  xy & y^2 &  x &  y & 1 \\\\\n",
    "  100 &   0 &   0 & 10 &  0 & 1 \\\\\n",
    "   64 &  48 &  36 &  8 &  6 & 1 \\\\\n",
    "   36 &  48 &  64 &  6 &  8 & 1 \\\\\n",
    "    0 &   0 & 100 &  0 & 10 & 1 \\\\\n",
    "   36 & -48 &  64 & -6 &  8 & 1 \\\\\n",
    "\\end{pmatrix}\n",
    "$= 0$\n",
    "\n",
    "### Each conic coefficient equals the determinant of the minor matrix multiplying the corresponding polynomial term\n",
    "$\\rightarrow$\n",
    "$A = \\det$\n",
    "\\begin{pmatrix}\n",
    "  0 &   0 & 10 &  0 & 1 \\\\\n",
    " 48 &  36 &  8 &  6 & 1 \\\\\n",
    " 48 &  64 &  6 &  8 & 1 \\\\\n",
    "  0 & 100 &  0 & 10 & 1 \\\\\n",
    "-48 &  64 & -6 &  8 & 1 \\\\\n",
    "\\end{pmatrix}\n",
    "\n",
    "$$\\rightarrow B = \\dots$$"
   ],
   "metadata": {
    "collapsed": false,
    "pycharm": {
     "name": "#%% md\n"
    }
   }
  },
  {
   "cell_type": "code",
   "execution_count": 3,
   "outputs": [
    {
     "name": "stdout",
     "output_type": "stream",
     "text": [
      "det( [[  0   0  10   0   1]\n",
      " [ 48  36   8   6   1]\n",
      " [ 48  64   6   8   1]\n",
      " [  0 100   0  10   1]\n",
      " [-48  64  -6   8   1]] ) = 15360\n",
      "\n",
      "det( [[  0  10   0   1 100]\n",
      " [ 36   8   6   1  64]\n",
      " [ 64   6   8   1  36]\n",
      " [100   0  10   1   0]\n",
      " [ 64  -6   8   1  36]] ) = 0\n",
      "\n",
      "det( [[ 10   0   1 100   0]\n",
      " [  8   6   1  64  48]\n",
      " [  6   8   1  36  48]\n",
      " [  0  10   1   0   0]\n",
      " [ -6   8   1  36 -48]] ) = 15360\n",
      "\n",
      "det( [[  0   1 100   0   0]\n",
      " [  6   1  64  48  36]\n",
      " [  8   1  36  48  64]\n",
      " [ 10   1   0   0 100]\n",
      " [  8   1  36 -48  64]] ) = 0\n",
      "\n",
      "det( [[  1 100   0   0  10]\n",
      " [  1  64  48  36   8]\n",
      " [  1  36  48  64   6]\n",
      " [  1   0   0 100   0]\n",
      " [  1  36 -48  64  -6]] ) = 0\n",
      "\n",
      "det( [[100   0   0  10   0]\n",
      " [ 64  48  36   8   6]\n",
      " [ 36  48  64   6   8]\n",
      " [  0   0 100   0  10]\n",
      " [ 36 -48  64  -6   8]] ) = 1536000\n",
      "\n"
     ]
    }
   ],
   "source": [
    "coefficient_matrix = np.array([[100, 0, 0, 10, 0, 1],\n",
    "                              [64, 48, 36, 8, 6, 1],\n",
    "                              [36, 48, 64, 6, 8, 1],\n",
    "                              [0, 0, 100, 0, 10, 1],\n",
    "                              [36, -48, 64, -6, 8, 1]])\n",
    "\n",
    "x_squared_minor_matrix = coefficient_matrix[:,1:]\n",
    "print(r'det( {} ) = {:.0f}'.format(x_squared_minor_matrix, np.linalg.det(x_squared_minor_matrix) ))\n",
    "print()\n",
    "\n",
    "xy_minor_matrix=np.append(coefficient_matrix[:,2:], coefficient_matrix[:,0].reshape(5,1), axis=1)\n",
    "print(r'det( {} ) = {:.0f}'.format(xy_minor_matrix, np.linalg.det(xy_minor_matrix) ))\n",
    "print()\n",
    "\n",
    "y_squared_minor_matrix=np.append(coefficient_matrix[:,3:], coefficient_matrix[:,:2].reshape(5,2), axis=1)\n",
    "print(r'det( {} ) = {:.0f}'.format(y_squared_minor_matrix, np.linalg.det(y_squared_minor_matrix) ))\n",
    "print()\n",
    "\n",
    "x_minor_matrix=np.append(coefficient_matrix[:,4:], coefficient_matrix[:,:3].reshape(5,3), axis=1)\n",
    "print(r'det( {} ) = {:.0f}'.format(x_minor_matrix, np.linalg.det(x_minor_matrix) ))\n",
    "print()\n",
    "\n",
    "y_minor_matrix=np.append(coefficient_matrix[:,5:], coefficient_matrix[:,:4].reshape(5,4), axis=1)\n",
    "print(r'det( {} ) = {:.0f}'.format(y_minor_matrix, np.linalg.det(y_minor_matrix) ))\n",
    "print()\n",
    "\n",
    "one_minor_matrix = coefficient_matrix[:,:5]\n",
    "print(r'det( {} ) = {:.0f}'.format(one_minor_matrix, np.linalg.det(one_minor_matrix) ))\n",
    "print()"
   ],
   "metadata": {
    "collapsed": false,
    "pycharm": {
     "name": "#%%\n"
    }
   }
  },
  {
   "cell_type": "markdown",
   "source": [
    "$$\\rightarrow 15360 x^2 + 15360 y^2 - 1536000 = 0 $$\n",
    "\n",
    "$$\\rightarrow x^2 + y^2 - 100 = 0 $$"
   ],
   "metadata": {
    "collapsed": false
   }
  },
  {
   "cell_type": "markdown",
   "source": [
    "***\n",
    "\n",
    "## Hyperbola\n",
    "\n",
    "### Choose linear eccentricity and semimajor axis\n",
    "$ c = 10, a = 8 $\n",
    "\n",
    "$\\rightarrow b = 6 $\n",
    "\n",
    "### Equation for the x-y coordinates of this hyperbola\n",
    "$\\rightarrow \\frac{x^2}{8^2} - \\frac{y^2}{6^2} = 1$\n",
    "\n",
    "\n",
    "### Convert to standard conic form\n",
    "$\\rightarrow 36 x^2 - 64 y^2 = 36 \\cdot 64 = 2304 $\n",
    "\n",
    "$\\rightarrow 9 x^2 - 16 y^2 - 576 = 0$"
   ],
   "metadata": {
    "collapsed": false,
    "pycharm": {
     "name": "#%% md\n"
    }
   }
  },
  {
   "cell_type": "code",
   "execution_count": 116,
   "outputs": [
    {
     "data": {
      "text/plain": "<Figure size 432x288 with 1 Axes>",
      "image/png": "[encoded data removed]"
     },
     "metadata": {
      "needs_background": "light"
     },
     "output_type": "display_data"
    }
   ],
   "source": [
    "#\n",
    "## Plot hyperbola\n",
    "#\n",
    "import matplotlib.pyplot as plt\n",
    "import numpy as np\n",
    "from draw_orbits import hyperbola\n",
    "\n",
    "# Calculate hyperbola values based on semi axes and an array of angles\n",
    "number_of_points = 100\n",
    "cutoff_angle = 0.20\n",
    "angles = np.array([\n",
    "    np.linspace(0.00 * 2 * np.pi, (0.00 + cutoff_angle) * 2 * np.pi, num=number_of_points),\n",
    "    np.linspace((0.50 - cutoff_angle) * 2 * np.pi, 0.50 * 2 * np.pi, num=number_of_points),\n",
    "    np.linspace(0.50 * 2 * np.pi, (0.50 + cutoff_angle) * 2 * np.pi, num=number_of_points),\n",
    "    np.linspace((1.00 - cutoff_angle) * 2 * np.pi, 1.00 * 2 * np.pi, num=number_of_points)\n",
    "                   ])\n",
    "semimajor_axis = 8.\n",
    "semiminor_axis = 6.\n",
    "\n",
    "x_values, y_values = hyperbola(angles, semimajor_axis=semimajor_axis, semiminor_axis=semiminor_axis)\n",
    "\n",
    "interpolation_points = np.array(\n",
    "    [[8, 0], [-8, 0], [12, 3 * np.sqrt(5)], [-12, 3 * np.sqrt(5)], [12, -3 * np.sqrt(5)]])\n",
    "\n",
    "# Choose plot parameters\n",
    "conic_color = 'blue'\n",
    "label_fontsize = 18\n",
    "label_x_shift = np.max(x_values)*0.01\n",
    "label_y_shift = np.max(y_values)*0.05\n",
    "\n",
    "# Plot hyperbola\n",
    "for index in np.arange(angles.shape[0]):\n",
    "    plt.plot(x_values[index], y_values[index], color=conic_color)\n",
    "plt.xlim([-2*semimajor_axis, 2*semimajor_axis])\n",
    "plt.ylim([-2*semiminor_axis, 2*semiminor_axis])\n",
    "\n",
    "# Label hyperbola\n",
    "plt.plot([0,semimajor_axis], [0, 0], color='black', linestyle='--')\n",
    "plt.text(0.5*semimajor_axis, label_y_shift, r'$a = {} $'.format(int(semimajor_axis)),\n",
    "          fontsize=label_fontsize, ha='center')\n",
    "plt.plot([0, 0], [0, semiminor_axis], color='black', linestyle='--')\n",
    "plt.text(-label_x_shift, 0.5*semiminor_axis, r'$b = {} $'.format(int(semiminor_axis)),\n",
    "          fontsize=label_fontsize, ha='right', va='center')\n",
    "\n",
    "# Plot and label two points on hyperbola\n",
    "plt.scatter(interpolation_points[:,0], interpolation_points[:,1], color='orange')\n",
    "for index in np.arange(interpolation_points.shape[0]):\n",
    "    x_coordinate, y_coordinate = interpolation_points[index][0], interpolation_points[index][1]\n",
    "    plt.text(x_coordinate + label_x_shift, y_coordinate, r'({:.1f}, {:.1f})'.format(x_coordinate, y_coordinate),\n",
    "             color='orange')\n",
    "\n",
    "# Show the plot\n",
    "plt.show()\n",
    "\n",
    "interpolation_matrix = np.array([interpolation_points[:, 0]**2,\n",
    "                                 interpolation_points[:, 0]*interpolation_points[:, 1],\n",
    "                                 interpolation_points[:, 1]**2,\n",
    "                                 interpolation_points[:, 0],\n",
    "                                 interpolation_points[:, 1],\n",
    "                                 np.ones(len(interpolation_points[:, 0]))\n",
    "                                 ]).transpose()\n",
    "\n",
    "A = np.linalg.det(interpolation_matrix[:,1:])\n",
    "B = np.linalg.det(np.append(interpolation_matrix[:,2:], interpolation_matrix[:,0].reshape(5,1), axis=1))\n",
    "C = np.linalg.det(np.append(interpolation_matrix[:,3:], interpolation_matrix[:,:2].reshape(5,2), axis=1))\n",
    "D = np.linalg.det(np.append(interpolation_matrix[:,4:], interpolation_matrix[:,:3].reshape(5,3), axis=1))\n",
    "E = np.linalg.det(np.append(interpolation_matrix[:,5:], interpolation_matrix[:,:4].reshape(5,4), axis=1))\n",
    "F = np.linalg.det(interpolation_matrix[:,:5])"
   ],
   "metadata": {
    "collapsed": false,
    "pycharm": {
     "name": "#%%\n"
    }
   }
  },
  {
   "cell_type": "markdown",
   "source": [
    "### Calculate standard conic coefficients from determinants of minor matrices using five points"
   ],
   "metadata": {
    "collapsed": false
   }
  },
  {
   "cell_type": "code",
   "execution_count": 115,
   "outputs": [
    {
     "name": "stdout",
     "output_type": "stream",
     "text": [
      "A, B, C, D, E, F = 1555200, 0, -2764800, 0, 0, 99532800\n",
      "9 C/A = -16, 9 F/A = 576\n"
     ]
    }
   ],
   "source": [
    "print('A, B, C, D, E, F = {:.0f}, {:.0f}, {:.0f}, {:.0f}, {:.0f}, {:.0f}'.format(A, B, C, D, E, F) )\n",
    "\n",
    "print('9 C/A = {}, 9 F/A = {}'.format(int(np.round(9*(C/A))), int(np.round(9*(F/A)))))\n"
   ],
   "metadata": {
    "collapsed": false,
    "pycharm": {
     "name": "#%%\n"
    }
   }
  },
  {
   "cell_type": "markdown",
   "source": [
    "$\\rightarrow 1555200 x^2 - 2764800 y^2 - 99532800 = 0$\n",
    "\n",
    "$\\rightarrow 9 x^2 - 16 y^2 - 576 = 0$\n"
   ],
   "metadata": {
    "collapsed": false
   }
  },
  {
   "cell_type": "markdown",
   "source": [
    "***\n",
    "\n",
    "## Parabola\n",
    "\n",
    "### Choose vertex and focus\n",
    "\n",
    "V: $(-3, -4)$, F: $(-\\frac{9}{4}, -3)$\n",
    "\n",
    "$\\rightarrow$ focal length: $\\frac{p}{2} = \\sqrt{(-3 - -\\frac{9}{4})^2 + (-4 - -3)^2} = \\frac{5}{4}$\n",
    "\n",
    "$\\rightarrow$ axis of symmetry: $y = \\frac{4}{3}x$\n",
    "\n",
    "$\\rightarrow$ directrix: $y = -\\frac{3}{4}x - \\frac{125}{16}$\n",
    "$\\rightarrow$ $12 x + 16 y + 125 = 0$\n",
    "\n",
    "### General conic form\n",
    "$\\rightarrow$ $\\frac{(12 x + 16 y + 125)^2}{12^2 + 16^2} = (x - \\left(-\\frac{9}{4}\\right)^2)^2 + (y - (-3)^2)^2$\n",
    "\n",
    "$\\rightarrow$ $\\frac{144 x^2 + 384 xy + 256 y^2 + 3000 x + 4000 y + 15625}{400} = (x^2 - \\frac{81}{8}x +\n",
    "\\frac{6561}{256}) + (y^2 -18 y + 81)$\n",
    "\n",
    "$\\rightarrow$ $16(144 x^2 + 384 xy + 256 y^2 + 3000 x + 4000 y + 15625) = 6400 x^2 - 64800 x + 164025 + 6400 y^2 -\n",
    "115200 y + 518400$\n",
    "\n",
    "$\\rightarrow$ $4096 x^2 -6144 x y  + 2304 y^2  -112800 x -179200 y  + 432425 = 0 $\n",
    "\n",
    "$16 x^2 - 24 x y + 9 y^2 - 75 x - 100 y - 625 = 0$"
   ],
   "metadata": {
    "collapsed": false
   }
  },
  {
   "cell_type": "code",
   "execution_count": 33,
   "outputs": [
    {
     "data": {
      "text/plain": "<Figure size 432x288 with 1 Axes>",
      "image/png": "[encoded data removed]"
     },
     "metadata": {
      "needs_background": "light"
     },
     "output_type": "display_data"
    }
   ],
   "source": [
    "#\n",
    "## Plot parabola\n",
    "#\n",
    "import numpy as np\n",
    "import matplotlib.pyplot as plt\n",
    "\n",
    "figure, axes = plt.subplots()\n",
    "# Choose plot parameters\n",
    "conic_color = 'blue'\n",
    "label_fontsize = 18\n",
    "number_of_points = 1000\n",
    "x_maximum = 50.\n",
    "\n",
    "# Choose domain x >= -13/3\n",
    "x_values = np.linspace(-13/3, x_maximum, number_of_points)\n",
    "\n",
    "# Define particular parabola\n",
    "def parabola(x):\n",
    "    return (50 + 12*x - 25*np.sqrt(13 + 3*x) )/9, (50 + 12*x + 25*np.sqrt(13 + 3*x))/9\n",
    "\n",
    "# Calculate parabola over domain\n",
    "y_values_minus, y_values_plus = parabola(x_values)\n",
    "\n",
    "label_x_shift = np.max(x_values)*0.01\n",
    "label_y_shift = np.max(y_values_plus)*0.05\n",
    "\n",
    "# Plot parabola\n",
    "axes.plot(x_values, y_values_plus, color=conic_color)\n",
    "axes.plot(x_values, y_values_minus, color=conic_color)\n",
    "\n",
    "# Set points to interpolate\n",
    "interpolation_points = np.array(\n",
    "    [[4, -3], [17, 6], [1, 18], [12, 41], [36, 23]])\n",
    "\n",
    "# Plot and label five points on parabola\n",
    "axes.scatter(interpolation_points[:,0], interpolation_points[:,1], color='orange')\n",
    "for index in np.arange(interpolation_points.shape[0]):\n",
    "    x_coordinate, y_coordinate = interpolation_points[index][0], interpolation_points[index][1]\n",
    "    axes.text(x_coordinate + label_x_shift, y_coordinate, r'({:.0f}, {:.0f})'.format(x_coordinate, y_coordinate),\n",
    "             color='orange')\n",
    "\n",
    "# Label parabola\n",
    "focus_coordinates = np.array([-9/4, -3])\n",
    "latus_rectum_x_values = np.linspace(-17/4, -1/4)\n",
    "latus_rectum_y_values = -(3/4)*latus_rectum_x_values -(75/16)\n",
    "axes.plot(latus_rectum_x_values, latus_rectum_y_values, color='black', linestyle='--')\n",
    "axes.text(focus_coordinates[0], focus_coordinates[1]+0.1*label_y_shift, r'$p = {} $'.format(2.5),\n",
    "         fontsize=12, ha='left', va='bottom')\n",
    "axes.scatter(focus_coordinates[0], focus_coordinates[1], color='black')\n",
    "\n",
    "# Set limits\n",
    "#plt.xlim([-10, 50])\n",
    "#plt.ylim([-10, 50])\n",
    "plt.xlim([-5,45])\n",
    "plt.ylim([-5,45])\n",
    "axes.set_aspect('equal')\n",
    "\n",
    "plt.show()"
   ],
   "metadata": {
    "collapsed": false,
    "pycharm": {
     "name": "#%%\n"
    }
   }
  },
  {
   "cell_type": "code",
   "execution_count": 12,
   "outputs": [
    {
     "name": "stdout",
     "output_type": "stream",
     "text": [
      "A, B, C, D, E, F = -144000000, -216000000, -81000000, -675000000, 900000000, -5625000000\n",
      "\n",
      "A/16 = -9000000\n",
      "\n",
      "(A, B, C, D, E, F)/(A/16) = 16, 24, 9, 75, -100, 625\n",
      "\n",
      "B^2 - 4*A*C = -0 --> parabola\n"
     ]
    }
   ],
   "source": [
    "import numpy as np\n",
    "\n",
    "interpolation_points = np.array(\n",
    "    [[4, -3], [17, 6], [1, 18], [12, 41], [36, 23]])\n",
    "\n",
    "interpolation_matrix = np.array([interpolation_points[:, 0]**2,\n",
    "                                 interpolation_points[:, 0]*interpolation_points[:, 1],\n",
    "                                 interpolation_points[:, 1]**2,\n",
    "                                 interpolation_points[:, 0],\n",
    "                                 interpolation_points[:, 1],\n",
    "                                 np.ones(len(interpolation_points[:, 0]))\n",
    "                                 ]).transpose()\n",
    "\n",
    "A = np.linalg.det(interpolation_matrix[:,1:])\n",
    "B = np.linalg.det(np.append(interpolation_matrix[:,2:], interpolation_matrix[:,0].reshape(5,1), axis=1))\n",
    "C = np.linalg.det(np.append(interpolation_matrix[:,3:], interpolation_matrix[:,:2].reshape(5,2), axis=1))\n",
    "D = np.linalg.det(np.append(interpolation_matrix[:,4:], interpolation_matrix[:,:3].reshape(5,3), axis=1))\n",
    "E = np.linalg.det(np.append(interpolation_matrix[:,5:], interpolation_matrix[:,:4].reshape(5,4), axis=1))\n",
    "F = np.linalg.det(interpolation_matrix[:,:5])\n",
    "\n",
    "print('A, B, C, D, E, F = {:.0f}, {:.0f}, {:.0f}, {:.0f}, {:.0f}, {:.0f}'.format(A, B, C, D, E, F) )\n",
    "print()\n",
    "reduction_factor = A/16\n",
    "print('A/16 = {:.0f}'.format(reduction_factor))\n",
    "print()\n",
    "A /= reduction_factor\n",
    "B /= reduction_factor\n",
    "C /= reduction_factor\n",
    "D /= reduction_factor\n",
    "E /= reduction_factor\n",
    "F /= reduction_factor\n",
    "print('(A, B, C, D, E, F)/(A/16) = {:.0f}, {:.0f}, {:.0f}, {:.0f}, {:.0f}, {:.0f}'.format(A, B, C, D, E, F) )\n",
    "print()\n",
    "discriminant = B**2 - 4*A*C\n",
    "print('B^2 - 4*A*C = {:.0f} --> parabola'.format(discriminant))\n"
   ],
   "metadata": {
    "collapsed": false,
    "pycharm": {
     "name": "#%%\n"
    }
   }
  }
 ],
 "metadata": {
  "kernelspec": {
   "display_name": "Python 3",
   "language": "python",
   "name": "python3"
  },
  "language_info": {
   "codemirror_mode": {
    "name": "ipython",
    "version": 2
   },
   "file_extension": ".py",
   "mimetype": "text/x-python",
   "name": "python",
   "nbconvert_exporter": "python",
   "pygments_lexer": "ipython2",
   "version": "2.7.6"
  }
 },
 "nbformat": 4,
 "nbformat_minor": 0
}