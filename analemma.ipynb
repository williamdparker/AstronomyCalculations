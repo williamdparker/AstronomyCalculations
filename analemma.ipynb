{
 "cells": [
  {
   "cell_type": "markdown",
   "metadata": {
    "collapsed": true,
    "pycharm": {
     "name": "#%% md\n"
    }
   },
   "source": [
    "$\\begin{array}{ll}\n",
    " E &= \\textrm{ eccentric anomaly}\\\\\n",
    " \\sin E &= \\frac{\\sqrt{1-e^2}\\sin t}{1+e \\cos t}\\\\\n",
    "  \\cos E &= \\frac{e + \\cos t}{1+e \\cos t}\\\\\n",
    "  \\\\\n",
    "   M &= \\textrm{ mean anomaly}\\\\\n",
    "    &= E-e\\sin E\\\\\n",
    "   \\\\\n",
    "   \\omega &= \\textrm{solar longitude}\\\\\n",
    "   \\varepsilon &= \\textrm{obliquity}\\\\\n",
    "   X &= \\cos(M+\\omega)\\cos(t+\\omega)+\\sin(M+\\omega)\\sin(t+\\omega)\\cos(\\varepsilon)\\\\\n",
    "   Y &= -\\sin(M+\\omega)\\cos(t+\\omega)+\\cos(M+\\omega)\\sin(t+\\omega)\\cos(\\varepsilon)\\\\\n",
    "   Z &= \\sin(t+\\omega)\\sin(\\varepsilon)\\\\\n",
    "   \\\\\n",
    "   \\theta &= \\textrm{altitude}\\\\\n",
    "        &= \\arcsin(Z)\\\\\n",
    "   \\phi &= \\textrm{azimuth}\\\\\n",
    "        &= -\\arctan(Y/X)\\\\\n",
    "\\end{array}$"
   ]
  },
  {
   "cell_type": "code",
   "execution_count": 6,
   "outputs": [
    {
     "name": "stdout",
     "output_type": "stream",
     "text": [
      "[ 0.00000000e+00  1.26109700e-01  2.52253338e-01  3.78464351e-01\n",
      "  5.04775171e-01  6.31216743e-01  7.57818047e-01  8.84605650e-01\n",
      "  1.01160328e+00  1.13883141e+00  1.26630697e+00  1.39404295e+00\n",
      "  1.52204821e+00  1.65032727e+00  1.77888017e+00  1.90770241e+00\n",
      "  2.03678500e+00  2.16611450e+00  2.29567326e+00  2.42543964e+00\n",
      "  2.55538838e+00  2.68549098e+00  2.81571621e+00  2.94603065e+00\n",
      "  3.07639926e+00 -3.07639926e+00 -2.94603065e+00 -2.81571621e+00\n",
      " -2.68549098e+00 -2.55538838e+00 -2.42543964e+00 -2.29567326e+00\n",
      " -2.16611450e+00 -2.03678500e+00 -1.90770241e+00 -1.77888017e+00\n",
      " -1.65032727e+00 -1.52204821e+00 -1.39404295e+00 -1.26630697e+00\n",
      " -1.13883141e+00 -1.01160328e+00 -8.84605650e-01 -7.57818047e-01\n",
      " -6.31216743e-01 -5.04775171e-01 -3.78464351e-01 -2.52253338e-01\n",
      " -1.26109700e-01 -2.40871830e-16]\n"
     ]
    },
    {
     "data": {
      "text/plain": "<Figure size 432x288 with 1 Axes>",
      "image/png": "[encoded data removed]"
     },
     "metadata": {
      "needs_background": "light"
     },
     "output_type": "display_data"
    }
   ],
   "source": [
    "import numpy as np\n",
    "import matplotlib.pyplot as plt\n",
    "\n",
    "obliquity = np.radians(23.43695091)\n",
    "eccentricity = .01670332\n",
    "solar_longitude = np.radians(282.99587119)\n",
    "t_values = np.linspace(0,2*np.pi)\n",
    "\n",
    "eccentric_anomaly_sine = (np.sqrt(1-eccentricity**2)*np.sin(t_values))/(1+eccentricity*np.cos(t_values))\n",
    "eccentric_anomaly = np.arctan2(np.sqrt(1-eccentricity**2)*np.sin(t_values),(eccentricity+np.cos(t_values)))\n",
    "mean_anomaly = eccentric_anomaly-eccentricity*np.sin(eccentric_anomaly)\n",
    "solar_angle = mean_anomaly+solar_longitude\n",
    "shifted_t = t_values+solar_longitude\n",
    "x_values = np.cos(solar_angle)*np.cos(shifted_t)+np.sin(solar_angle)*np.sin(shifted_t)*np.cos(obliquity)\n",
    "y_values = -np.sin(solar_angle)*np.cos(shifted_t)+np.cos(solar_angle)*np.sin(shifted_t)*np.cos(obliquity)\n",
    "z_values = np.sin(shifted_t)*np.sin(obliquity)\n",
    "altitudes = np.arcsin(z_values)\n",
    "azimuths = -np.arctan(y_values/x_values)\n",
    "print(eccentric_anomaly)\n",
    "plt.plot(np.degrees(azimuths), np.degrees(altitudes))\n",
    "plt.show()\n",
    "# find crunode plot wave functions using mean values to start at a similar point and plot the difference between them\n",
    "# mathematically derive the formulas through x and y"
   ],
   "metadata": {
    "collapsed": false,
    "pycharm": {
     "name": "#%%\n"
    }
   }
  }
 ],
 "metadata": {
  "kernelspec": {
   "display_name": "Python 3",
   "language": "python",
   "name": "python3"
  },
  "language_info": {
   "codemirror_mode": {
    "name": "ipython",
    "version": 2
   },
   "file_extension": ".py",
   "mimetype": "text/x-python",
   "name": "python",
   "nbconvert_exporter": "python",
   "pygments_lexer": "ipython2",
   "version": "2.7.6"
  }
 },
 "nbformat": 4,
 "nbformat_minor": 0
}