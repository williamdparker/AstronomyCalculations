{
 "cells": [
  {
   "cell_type": "markdown",
   "metadata": {
    "collapsed": true,
    "pycharm": {
     "name": "#%% md\n"
    }
   },
   "source": [
    "# Gravitational field\n",
    "\n",
    "$ \\vec{g} = \\frac{Gm}{r^2}\\hat{r} $\n",
    "\n",
    "$ \\mu = Gm$"
   ]
  },
  {
   "cell_type": "code",
   "source": [
    "import matplotlib.pyplot as plt\n",
    "import numpy as np\n",
    "starting_radius = 1e-1\n",
    "ending_radius = 1\n",
    "gravitational_parameter = 1\n",
    "radii = np.linspace(starting_radius, ending_radius, num=1000)\n",
    "gravitational_field = -gravitational_parameter / radii **2\n",
    "\n",
    "plt.plot(radii, gravitational_field)\n",
    "plt.text(0.5 * (ending_radius - starting_radius) + starting_radius,\n",
    "         0.5 * (np.max(gravitational_field)- np.min(gravitational_field)) + np.min(gravitational_field),\n",
    "         r'$ \\vec{g} = -\\frac{Gm}{r^2}\\hat{r} $',\n",
    "         fontsize = 20)\n",
    "plt.show()"
   ],
   "metadata": {
    "collapsed": false,
    "pycharm": {
     "name": "#%%\n"
    }
   },
   "execution_count": 10,
   "outputs": [
    {
     "data": {
      "text/plain": "<Figure size 432x288 with 1 Axes>",
      "image/png": "[encoded data removed]"
     },
     "metadata": {
      "needs_background": "light"
     },
     "output_type": "display_data"
    }
   ]
  },
  {
   "cell_type": "markdown",
   "source": [
    "calculate mond gravitational field\n"
   ],
   "metadata": {
    "collapsed": false,
    "pycharm": {
     "name": "#%% md\n"
    }
   }
  }
 ],
 "metadata": {
  "kernelspec": {
   "display_name": "Python 3",
   "language": "python",
   "name": "python3"
  },
  "language_info": {
   "codemirror_mode": {
    "name": "ipython",
    "version": 2
   },
   "file_extension": ".py",
   "mimetype": "text/x-python",
   "name": "python",
   "nbconvert_exporter": "python",
   "pygments_lexer": "ipython2",
   "version": "2.7.6"
  }
 },
 "nbformat": 4,
 "nbformat_minor": 0
}