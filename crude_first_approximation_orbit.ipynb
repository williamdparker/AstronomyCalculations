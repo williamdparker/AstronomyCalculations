{
 "cells": [
  {
   "cell_type": "markdown",
   "metadata": {
    "collapsed": true,
    "pycharm": {
     "name": "#%% md\n"
    }
   },
   "source": [
    "# Crude Approximation to Orbit of 2 Pallas\n",
    "\n",
    "## Coordinate notation\n",
    "   $x,y,z$ = heliocentric plane of orbit\n",
    "\n",
    "   $x = r \\cos v$, $y = r \\sin v$, $z = 0$  where $r$ = heliocentric distance &  $v$ = true anomaly\n",
    "\n",
    "$X,Y,Z$ = heliocentric ecliptic\n",
    "\n",
    "$X = r \\cos β \\cos λ$, $Y = r \\cos β \\sin λ$, $Z = r \\sin β$   where $β$ = ecliptic latitude, $λ$ = ecliptic longitude\n",
    "\n",
    "$ξ,η,ζ$ = heliocentric equatorial coordinates\n",
    "\n",
    "$\\mathfrak{x},\\mathfrak{y},\\mathfrak{z}$ = geocentric equatorial coordinates\n",
    "\n",
    "$\\mathfrak{x} = Δ \\cos δ \\cos α, \\mathfrak{y} = Δ \\cos δ \\sin α, \\mathfrak{z} = Δ \\sin δ$    where $Δ$ = geocentric distance, $δ$ = declination, $α$ = RA\n",
    "\n",
    "$α$ = right ascension, $δ$ = declination\n",
    "\n",
    "\\begin{align*}\n",
    "\\mathfrak{x} &= Δ \\cos δ \\cos α = l Δ = \\mathfrak{x}_0 + ξ \\textrm{, where } \\mathfrak{x}_0 = \\textrm{geocentric equatorial x-coordinate of the Sun}\\\\\n",
    "\\mathfrak{y} &= Δ \\cos δ \\sin α = m Δ = \\mathfrak{y}_0 + η \\textrm{, where } \\mathfrak{y}_0 = \\textrm{geocentric equatorial y-coordinate of the Sun}\\\\\n",
    "\\mathfrak{z} &= Δ \\sin δ = n Δ = \\mathfrak{z}_0 + ζ \\textrm{, where } \\mathfrak{z}_0 = \\textrm{geocentric equatorial z-coordinate of the Sun}\\\\\n",
    "\\end{align*}\n",
    "\n",
    "$l,m,n$ = angular factors of geocentric equatorial coordinates\n",
    "$l^2 + m^2 + n^2 = 1$\n",
    "\n",
    "Values taken from Chapter 13.6 of Celestial Mechanics (Tatum)"
   ]
  },
  {
   "cell_type": "code",
   "execution_count": 1,
   "outputs": [],
   "source": [
    "from astropy.time import Time\n",
    "import numpy as np\n",
    "\n",
    "times = ['2002-07-10', '2002-07-15', '2002-07-25']\n",
    "time_objects = []\n",
    "for time in times:\n",
    "    time_objects.append(Time(time+'T00:00:00', format='isot', scale='utc'))\n",
    "\n",
    "# Values of angular coordinates in radians\n",
    "right_ascensions = [5.5649, 5.5521, 5.5222]\n",
    "declinations = [0.2833, 0.2803, 0.2690]\n",
    "\n",
    "# Convert δ, α to l, m, n\n",
    "def convert_equatorial_coordinates_to_cartesian_angles(declination, right_ascension):\n",
    "    l = np.cos(declination) * np.cos(right_ascension)\n",
    "    m = np.cos(declination) * np.sin(right_ascension)\n",
    "    n = np.sin(declination)\n",
    "    return l,m,n\n",
    "\n",
    "geocentric_cartesian_angle_factors = []\n",
    "for right_ascension, declination in zip(right_ascensions, declinations):\n",
    "    geocentric_cartesian_angle_factors.append(convert_equatorial_coordinates_to_cartesian_angles(declination,\n",
    "        right_ascension))"
   ],
   "metadata": {
    "collapsed": false,
    "pycharm": {
     "name": "#%%\n"
    }
   }
  },
  {
   "cell_type": "markdown",
   "source": [
    "#Describe crude approximation equations\n",
    "\\begin{align*}\n",
    "l_1 a_1 \\Delta_1 - l_2 \\Delta_2 +l_3 a_3 \\Delta_3 &= a_1 \\mathfrak{x}_{01} -\\mathfrak{x}_{02} + a_3 \\mathfrak{x}_{03}\\\\\n",
    "m_1 a_1 \\Delta_1 - m_2 \\Delta_2 +m_3 a_3 \\Delta_3 &= a_1 \\mathfrak{y}_{01} -\\mathfrak{y}_{02} + a_3 \\mathfrak{y}_{03}\\\\\n",
    "n_1 a_1 \\Delta_1 - n_2 \\Delta_2 +n_3 a_3 \\Delta_3 &= a_1 \\mathfrak{z}_{01} -\\mathfrak{z}_{02} + a_3 \\mathfrak{z}_{03}\\\\\n",
    "\\end{align*}"
   ],
   "metadata": {
    "collapsed": false,
    "pycharm": {
     "name": "#%% md\n"
    }
   }
  },
  {
   "cell_type": "code",
   "execution_count": 5,
   "outputs": [
    {
     "name": "stdout",
     "output_type": "stream",
     "text": [
      "[2.78205595 2.72660797 2.63307984] AU\n"
     ]
    }
   ],
   "source": [
    "def crude_approximation_geocentric(observation_times, geocentric_angles):\n",
    "    from astropy.coordinates import get_sun\n",
    "    earth_sun_separations = []\n",
    "    for time in observation_times:\n",
    "        earth_sun_separation = get_sun(time)\n",
    "        earth_sun_separation.representation_type = 'cartesian'\n",
    "        earth_sun_separations.append([earth_sun_separation.x.value, earth_sun_separation.y.value,\n",
    "                                      earth_sun_separation.z.value])\n",
    "\n",
    "    a1 = 2/3\n",
    "    a3 = 1/3\n",
    "    geocentric_distance_coefficients = np.zeros((3, 3))\n",
    "\n",
    "    geocentric_distance_coefficients[:, 0] = a1 * geocentric_angles[0]\n",
    "    geocentric_distance_coefficients[:, 1] = -1 * geocentric_angles[1]\n",
    "    geocentric_distance_coefficients[:, 2] = a3 * geocentric_angles[2]\n",
    "\n",
    "    earth_sun_separations = np.array(earth_sun_separations)\n",
    "    earth_sun_separation_coefficients = a1 * earth_sun_separations[0]\n",
    "    earth_sun_separation_coefficients += -1 * earth_sun_separations[1]\n",
    "    earth_sun_separation_coefficients += a3 * earth_sun_separations[2]\n",
    "    geocentric_distances = np.linalg.solve(geocentric_distance_coefficients, earth_sun_separation_coefficients)\n",
    "\n",
    "    return geocentric_distances\n",
    "\n",
    "geocentric_cartesian_angle_factors = np.array(geocentric_cartesian_angle_factors)\n",
    "geocentric_distances = crude_approximation_geocentric(time_objects, geocentric_cartesian_angle_factors)\n",
    "print('{} AU'.format(geocentric_distances))"
   ],
   "metadata": {
    "collapsed": false,
    "pycharm": {
     "name": "#%%\n"
    }
   }
  }
 ],
 "metadata": {
  "kernelspec": {
   "display_name": "Python 3",
   "language": "python",
   "name": "python3"
  },
  "language_info": {
   "codemirror_mode": {
    "name": "ipython",
    "version": 2
   },
   "file_extension": ".py",
   "mimetype": "text/x-python",
   "name": "python",
   "nbconvert_exporter": "python",
   "pygments_lexer": "ipython2",
   "version": "2.7.6"
  }
 },
 "nbformat": 4,
 "nbformat_minor": 0
}