{
 "cells": [
  {
   "cell_type": "markdown",
   "metadata": {
    "collapsed": true,
    "pycharm": {
     "name": "#%% md\n"
    }
   },
   "source": [
    "# Crude Approximation to Orbit of 2 Pallas\n",
    "\n",
    "## Coordinate notation\n",
    "---\n",
    "\n",
    "$\\vec{\\rho} = (\\xi, \\eta, \\zeta)$ = heliocentric equatorial coordinates\n",
    "\n",
    "$\\vec{\\mathfrak{r}} = (\\mathfrak{x},\\mathfrak{y},\\mathfrak{z})$ = geocentric equatorial coordinates\n",
    "\n",
    "\\begin{align*}\n",
    "\\mathfrak{x} &= \\Delta\\, \\cos \\delta\\, \\cos \\alpha \\\\\n",
    "\\mathfrak{y} &= \\Delta\\, \\cos \\delta\\, \\sin \\alpha \\\\\n",
    "\\mathfrak{z} &= \\Delta\\, \\sin \\delta \\\\\n",
    "\\end{align*}\n",
    "\n",
    "where $\\Delta$ = geocentric distance,\n",
    "$\\delta$ = declination, $\\alpha$ = right ascension\n",
    "\n",
    "---\n",
    "\n",
    "\\begin{align*}\n",
    "\\mathfrak{x} &= \\Delta\\, \\cos \\delta\\, \\cos \\alpha = l \\Delta = \\mathfrak{x}_0 + \\xi \\\\\n",
    "\\mathfrak{y} &= \\Delta\\, \\cos \\delta\\, \\sin \\alpha = m \\Delta = \\mathfrak{y}_0 + \\eta \\\\\n",
    "\\mathfrak{z} &= \\Delta\\, \\sin \\delta = n \\Delta = \\mathfrak{z}_0 + \\zeta \\\\\n",
    "\\end{align*}\n",
    "\n",
    "$l,m,n$ = angular factors of geocentric equatorial coordinates\n",
    "\n",
    "$l^2 + m^2 + n^2 = 1$\n"
   ]
  },
  {
   "cell_type": "code",
   "execution_count": 1,
   "outputs": [
    {
     "data": {
      "text/plain": "<Figure size 432x288 with 1 Axes>",
      "image/png": "[encoded data removed]"
     },
     "metadata": {
      "needs_background": "light"
     },
     "output_type": "display_data"
    }
   ],
   "source": [
    "import matplotlib.pyplot as plt\n",
    "import numpy as np\n",
    "\n",
    "earth_semimajor_axis = 1.  # au\n",
    "earth_eccentricity = 0.0167086\n",
    "focal_length = earth_eccentricity * earth_semimajor_axis\n",
    "#Sun location\n",
    "sun_x, sun_y = -focal_length, 0.\n",
    "dot_size=128\n",
    "plt.scatter(sun_x, sun_y, color='orange', s=dot_size)\n",
    "label_fontsize=18\n",
    "plt.text(sun_x-4*0.05, sun_y, '☉', color='orange', fontsize=label_fontsize, va='center')\n",
    "#Earth location\n",
    "earth_x, earth_y = earth_semimajor_axis, 0.\n",
    "plt.scatter(earth_x, earth_y, color='blue', s=dot_size)\n",
    "plt.text(earth_x+0.05, earth_y, '⊕', color='blue', fontsize=label_fontsize, va='center')\n",
    "\n",
    "#2 Pallas location\n",
    "angle = np.pi/6\n",
    "pallas_semimajor_axis = 2.771\n",
    "pallas_x = pallas_semimajor_axis*np.cos(angle)\n",
    "pallas_y = pallas_semimajor_axis*np.sin(angle)\n",
    "plt.scatter(pallas_x, pallas_y,\n",
    "            color='gray', s=dot_size)\n",
    "plt.text(pallas_x+0.05, pallas_y, '⚴', color='gray', fontsize=label_fontsize, va='center')\n",
    "\n",
    "# Geocentric position of Sun\n",
    "arrow_width = 0.005\n",
    "plt.arrow(earth_semimajor_axis, 0,\n",
    "          -(earth_semimajor_axis+focal_length), 0,\n",
    "          color='black', width=arrow_width,\n",
    "          length_includes_head=True,\n",
    "          head_width=10*arrow_width, head_length=20*arrow_width)\n",
    "sun_position_label=r'$\\vec{\\mathfrak{r}}_0$'\n",
    "plt.text(0.5*(earth_x+sun_x), 0.05,\n",
    "         sun_position_label,\n",
    "         fontsize=label_fontsize)\n",
    "\n",
    "# Geocentric position of 2 Pallas\n",
    "plt.arrow(earth_x, earth_y,\n",
    "          pallas_x-earth_x, pallas_y-earth_y,\n",
    "          color='black', width=arrow_width,\n",
    "          length_includes_head=True,\n",
    "          head_width=10*arrow_width, head_length=20*arrow_width)\n",
    "\n",
    "pallas_position_label=r'$\\vec{\\mathfrak{r}}$'\n",
    "plt.text(earth_x+0.5*(pallas_x-earth_x), earth_y+0.5*(pallas_y-earth_y)+2*0.05,\n",
    "         pallas_position_label,\n",
    "         fontsize=label_fontsize)\n",
    "\n",
    "# Heliocentric position of 2 Pallas\n",
    "plt.arrow(sun_x, sun_y,\n",
    "          pallas_x-sun_x, pallas_y-sun_y,\n",
    "          color='black', width=arrow_width,\n",
    "          length_includes_head=True,\n",
    "          head_width=10*arrow_width, head_length=20*arrow_width)\n",
    "\n",
    "pallas_position_label=r'$\\vec{\\rho}$'\n",
    "plt.text(sun_x+0.5*(pallas_x-sun_x), sun_y+0.5*(pallas_y-sun_y)+2*0.05,\n",
    "         pallas_position_label,\n",
    "         fontsize=label_fontsize)\n",
    "\n",
    "plt.xlim([-0.25, 2.75])\n",
    "plt.show()\n",
    "\n"
   ],
   "metadata": {
    "collapsed": false,
    "pycharm": {
     "name": "#%%\n"
    }
   }
  },
  {
   "cell_type": "markdown",
   "source": [
    "$\\vec{\\mathfrak{r}}_0 = (\\mathfrak{x}_0, \\mathfrak{y}_0, \\mathfrak{z}_0) = $ geocentric equatorial coordinates of the Sun\n",
    "\n",
    "\n",
    "Values for three observations of 2 Pallas $\\{\\delta (t_1, t_2, t_3)$, $\\alpha(t_1, t_2, t_3)\\}$  taken from\n",
    "[Chapter 13.6 of Celestial Mechanics (Tatum)](https://bit.ly/3ywhpEB)\n",
    "\n",
    "Geocentric equatorial coordinates of Sun obtained from Astropy coordinates\n",
    "[get_sun](https://docs.astropy.org/en/stable/api/astropy.coordinates.get_sun.html) at times described above\n",
    "\n"
   ],
   "metadata": {
    "collapsed": false,
    "pycharm": {
     "name": "#%% md\n"
    }
   }
  },
  {
   "cell_type": "code",
   "execution_count": 3,
   "outputs": [],
   "source": [
    "from astropy.time import Time\n",
    "import numpy as np\n",
    "\n",
    "times = ['2002-07-10', '2002-07-15', '2002-07-25']\n",
    "time_objects = []\n",
    "for time in times:\n",
    "    time_objects.append(Time(time+'T00:00:00', format='isot', scale='utc'))\n",
    "\n",
    "# Values of angular coordinates in radians\n",
    "right_ascensions = [5.5649, 5.5521, 5.5222]\n",
    "declinations = [0.2833, 0.2803, 0.2690]\n",
    "\n",
    "# Convert δ, α to l, m, n\n",
    "def convert_equatorial_coordinates_to_cartesian_angles(declination, right_ascension):\n",
    "    l = np.cos(declination) * np.cos(right_ascension)\n",
    "    m = np.cos(declination) * np.sin(right_ascension)\n",
    "    n = np.sin(declination)\n",
    "    return l,m,n\n",
    "\n",
    "geocentric_cartesian_angle_factors = []\n",
    "for right_ascension, declination in zip(right_ascensions, declinations):\n",
    "    geocentric_cartesian_angle_factors.append(convert_equatorial_coordinates_to_cartesian_angles(declination,\n",
    "        right_ascension))"
   ],
   "metadata": {
    "collapsed": false,
    "pycharm": {
     "name": "#%%\n"
    }
   }
  },
  {
   "cell_type": "markdown",
   "source": [
    "## Crude approximation equations\n",
    "\\begin{align*}\n",
    "l_1 a_1 \\Delta_1 - l_2 \\Delta_2 +l_3 a_3 \\Delta_3 &= a_1 \\mathfrak{x}_{01} -\\mathfrak{x}_{02} + a_3 \\mathfrak{x}_{03}\\\\\n",
    "m_1 a_1 \\Delta_1 - m_2 \\Delta_2 +m_3 a_3 \\Delta_3 &= a_1 \\mathfrak{y}_{01} -\\mathfrak{y}_{02} + a_3 \\mathfrak{y}_{03}\\\\\n",
    "n_1 a_1 \\Delta_1 - n_2 \\Delta_2 +n_3 a_3 \\Delta_3 &= a_1 \\mathfrak{z}_{01} -\\mathfrak{z}_{02} + a_3 \\mathfrak{z}_{03}\\\\\n",
    "\\end{align*}\n",
    "\n",
    "$a_1 = b_1 = 2/3$\n",
    "\n",
    "$a_2 = b_2 = 1/3$\n",
    "\n",
    "Solve this system of three equations using NumPy\n",
    "[linalg.solve](https://numpy.org/doc/stable/reference/generated/numpy.linalg.solve.html)"
   ],
   "metadata": {
    "collapsed": false,
    "pycharm": {
     "name": "#%% md\n"
    }
   }
  },
  {
   "cell_type": "code",
   "execution_count": 9,
   "outputs": [
    {
     "name": "stdout",
     "output_type": "stream",
     "text": [
      "Δ1,Δ2,Δ3 = [2.78205595 2.72660797 2.63307984] AU\n"
     ]
    }
   ],
   "source": [
    "def crude_approximation_geocentric(observation_times, geocentric_angles):\n",
    "    from astropy.coordinates import get_sun\n",
    "    earth_sun_separations = []\n",
    "    for time in observation_times:\n",
    "        earth_sun_separation = get_sun(time)\n",
    "        earth_sun_separation.representation_type = 'cartesian'\n",
    "        earth_sun_separations.append([earth_sun_separation.x.value, earth_sun_separation.y.value,\n",
    "                                      earth_sun_separation.z.value])\n",
    "\n",
    "    a1 = 2/3\n",
    "    a3 = 1/3\n",
    "    geocentric_distance_coefficients = np.zeros((3, 3))\n",
    "\n",
    "    geocentric_distance_coefficients[:, 0] = a1 * geocentric_angles[0]\n",
    "    geocentric_distance_coefficients[:, 1] = -1 * geocentric_angles[1]\n",
    "    geocentric_distance_coefficients[:, 2] = a3 * geocentric_angles[2]\n",
    "\n",
    "    earth_sun_separations = np.array(earth_sun_separations)\n",
    "    earth_sun_separation_coefficients = a1 * earth_sun_separations[0]\n",
    "    earth_sun_separation_coefficients += -1 * earth_sun_separations[1]\n",
    "    earth_sun_separation_coefficients += a3 * earth_sun_separations[2]\n",
    "    geocentric_distances = np.linalg.solve(geocentric_distance_coefficients, earth_sun_separation_coefficients)\n",
    "\n",
    "    return geocentric_distances\n",
    "\n",
    "geocentric_cartesian_angle_factors = np.array(geocentric_cartesian_angle_factors)\n",
    "geocentric_distances = crude_approximation_geocentric(time_objects, geocentric_cartesian_angle_factors)\n",
    "print('Δ1,Δ2,Δ3 = {} AU'.format(geocentric_distances))"
   ],
   "metadata": {
    "collapsed": false,
    "pycharm": {
     "name": "#%%\n"
    }
   }
  }
 ],
 "metadata": {
  "kernelspec": {
   "display_name": "Python 3",
   "language": "python",
   "name": "python3"
  },
  "language_info": {
   "codemirror_mode": {
    "name": "ipython",
    "version": 2
   },
   "file_extension": ".py",
   "mimetype": "text/x-python",
   "name": "python",
   "nbconvert_exporter": "python",
   "pygments_lexer": "ipython2",
   "version": "2.7.6"
  }
 },
 "nbformat": 4,
 "nbformat_minor": 0
}
